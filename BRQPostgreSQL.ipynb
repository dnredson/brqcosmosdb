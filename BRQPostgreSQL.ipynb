{
  "nbformat": 4,
  "nbformat_minor": 0,
  "metadata": {
    "colab": {
      "provenance": []
    },
    "kernelspec": {
      "name": "python3",
      "display_name": "Python 3"
    },
    "language_info": {
      "name": "python"
    }
  },
  "cells": [
    {
      "cell_type": "code",
      "execution_count": null,
      "metadata": {
        "colab": {
          "base_uri": "https://localhost:8080/"
        },
        "id": "B_B3UiHe7LJA",
        "outputId": "5b2a7b3b-976f-4d12-c362-acce95b03cba"
      },
      "outputs": [
        {
          "output_type": "stream",
          "name": "stdout",
          "text": [
            "Requirement already satisfied: psycopg2 in /usr/local/lib/python3.10/dist-packages (2.9.9)\n",
            "Usuário criado com sucesso!\n"
          ]
        }
      ],
      "source": [
        "!pip install psycopg2\n",
        "import psycopg2\n",
        "\n",
        "\n",
        "host = \"c-brqcluster.xa4kkuuujtw6we.postgres.cosmos.azure.com\"\n",
        "database = \"citus\"\n",
        "user = \"citus\"\n",
        "password = \"BRQ@123456\"\n",
        "\n",
        "#\n",
        "\n",
        "#CREATE TABLE users ( id SERIAL PRIMARY KEY, username VARCHAR(100), nome VARCHAR(100), funcao VARCHAR(100));\n",
        "def connect():\n",
        "    try:\n",
        "        connection = psycopg2.connect(\n",
        "            host=host,\n",
        "            database=database,\n",
        "            user=user,\n",
        "            password=password\n",
        "        )\n",
        "        return connection\n",
        "    except Exception as e:\n",
        "        print(f\"Erro ao conectar ao banco de dados: {e}\")\n",
        "        return None\n",
        "\n",
        "# Criar o usuário (CREATE)\n",
        "def create_user(username, nome, funcao):\n",
        "    try:\n",
        "        connection = connect()\n",
        "        if connection:\n",
        "            cursor = connection.cursor()\n",
        "            insert_query = \"INSERT INTO users (username, nome, funcao) VALUES (%s, %s, %s)\"\n",
        "            cursor.execute(insert_query, (username, nome, funcao))\n",
        "            connection.commit()\n",
        "            print(\"Usuário criado com sucesso!\")\n",
        "    except Exception as e:\n",
        "        print(f\"Erro ao criar usuário: {e}\")\n",
        "    finally:\n",
        "        if connection:\n",
        "            connection.close()\n",
        "\n",
        "# Ler o usuário (READ)\n",
        "def read_users():\n",
        "    try:\n",
        "        connection = connect()\n",
        "        if connection:\n",
        "            cursor = connection.cursor()\n",
        "            select_query = \"SELECT * FROM users\"\n",
        "            cursor.execute(select_query)\n",
        "            users = cursor.fetchall()\n",
        "            for user in users:\n",
        "                print(user)\n",
        "    except Exception as e:\n",
        "        print(f\"Erro ao ler usuários: {e}\")\n",
        "    finally:\n",
        "        if connection:\n",
        "            connection.close()\n",
        "\n",
        "# Update do usuário (UPDATE)\n",
        "def update_funcao(username, new_funcao):\n",
        "    try:\n",
        "        connection = connect()\n",
        "        if connection:\n",
        "            cursor = connection.cursor()\n",
        "            update_query = \"UPDATE users SET funcao = %s WHERE username = %s\"\n",
        "            cursor.execute(update_query, (new_funcao, username))\n",
        "            connection.commit()\n",
        "            print(\"Usuário atualizado com sucesso!\")\n",
        "    except Exception as e:\n",
        "        print(f\"Erro ao atualizar usuário: {e}\")\n",
        "    finally:\n",
        "        if connection:\n",
        "            connection.close()\n",
        "\n",
        "# Deletar usuário (DELETE)\n",
        "def delete_user(username):\n",
        "    try:\n",
        "        connection = connect()\n",
        "        if connection:\n",
        "            cursor = connection.cursor()\n",
        "            delete_query = \"DELETE FROM users WHERE username = %s\"\n",
        "            cursor.execute(delete_query, (username,))\n",
        "            connection.commit()\n",
        "            print(\"Usuário excluído com sucesso!\")\n",
        "    except Exception as e:\n",
        "        print(f\"Erro ao excluir usuário: {e}\")\n",
        "    finally:\n",
        "        if connection:\n",
        "            connection.close()\n",
        "\n",
        "\n",
        "create_user(\"couveloka89\",\"João das couves\", \"professor\")\n",
        "#read_users()\n",
        "#escreva uma função que faz a seleção por ID\n",
        "#update_funcao(\"couveloka89\", \"aluno\")\n",
        "#read_users()\n",
        "#delete_user(\"couveloka89\")\n",
        "#read_users()"
      ]
    }
  ]
}